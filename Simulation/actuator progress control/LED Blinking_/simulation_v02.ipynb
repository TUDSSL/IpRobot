{
 "cells": [
  {
   "cell_type": "code",
   "execution_count": 3,
   "metadata": {
    "collapsed": false
   },
   "outputs": [
    {
     "name": "stdout",
     "output_type": "stream",
     "text": [
      "(103, 100)\n",
      "(90, 100)\n"
     ]
    }
   ],
   "source": [
    "import random\n",
    "\n",
    "def cnt_before_blinkLED(deathProb):\n",
    "    \"\"\"Count before blinking the LED\"\"\"\n",
    "    LED=False\n",
    "    ledBlinked =False\n",
    "    \n",
    "    if random.random() < deathProb:\n",
    "        ledBlinked |= True \n",
    "        return (LED, ledBlinked)\n",
    "        #-------- the device died here \n",
    "        \n",
    "    ledBlinked = True      \n",
    "    LED =True # blink LED\n",
    "    \n",
    "    return (LED, ledBlinked)\n",
    "\n",
    "\n",
    "def cnt_after_blinkLED(deathProb):\n",
    "    \"\"\"Count after blinking the LED\"\"\"\n",
    "    \n",
    "    LED=False\n",
    "    ledBlinked =False\n",
    "    \n",
    "    LED =True # blink LED\n",
    "    if random.random() < deathProb:\n",
    "        return (LED, ledBlinked)\n",
    "    \n",
    "    ledBlinked = True \n",
    "    return (LED, ledBlinked)\n",
    "    \n",
    "\n",
    "def cnt_alt_blinkLED(deathProb):\n",
    "    \"\"\"alternate the counter position\n",
    "    \"\"\"\n",
    "    \n",
    "    if random.random() > 0.5:\n",
    "        LED, ledBlinked = cnt_before_blinkLED(deathProb)\n",
    "    else:\n",
    "        LED, ledBlinked = cnt_after_blinkLED(deathProb)\n",
    "    return (LED, ledBlinked)\n",
    "        \n",
    "\n",
    "def alt_cnts_accurcy (blinking_goal, deathProb):\n",
    "    cnt_aLED = 0\n",
    "    cnt_aLedC = 0\n",
    "    \n",
    "    while cnt_aLedC < blinking_goal:\n",
    "        aLED, aLedB = cnt_alt_blinkLED(deathProb)\n",
    " \n",
    "        if aLED:\n",
    "            cnt_aLED += 1\n",
    "        if aLedB:\n",
    "            cnt_aLedC += 1\n",
    "        \n",
    "    return (cnt_aLED, cnt_aLedC)\n",
    "\n",
    "def bef_cnts_accurcy (blinking_goal, deathProb):\n",
    "    cnt_bLED = 0\n",
    "    cnt_bLedC = 0\n",
    "    \n",
    "    while cnt_bLedC < blinking_goal:\n",
    "        bLED, bLedB = cnt_before_blinkLED(deathProb)\n",
    "\n",
    "        if bLED:\n",
    "            cnt_bLED +=1 \n",
    "        if bLedB:\n",
    "            cnt_bLedC +=1 \n",
    "        \n",
    "    return (cnt_bLED, cnt_bLedC)\n",
    "\n",
    "print ( alt_cnts_accurcy (100, 0.1) )\n",
    "print ( bef_cnts_accurcy (100, 0.1) )"
   ]
  },
  {
   "cell_type": "code",
   "execution_count": 4,
   "metadata": {
    "collapsed": false
   },
   "outputs": [
    {
     "name": "stdout",
     "output_type": "stream",
     "text": [
      "alt_LED 100.322 0.0465281356566\n",
      "bef_LED 79.987 0.0495163017081\n"
     ]
    }
   ],
   "source": [
    "import numpy as np\n",
    "def sim_cnts_acc(numTrials):\n",
    "    cnt_aLED=[]\n",
    "    cnt_aLedC = []\n",
    "    cnt_bLED=[]\n",
    "    cnt_bLedC = []\n",
    "    for i in range(numTrials):\n",
    "        cnt_aLED_el, cnt_aLedC_el =alt_cnts_accurcy (100, 0.2)\n",
    "        cnt_bLED_el, cnt_bLedC_el = bef_cnts_accurcy(100, 0.2)\n",
    "        \n",
    "        cnt_aLED.append(cnt_aLED_el)\n",
    "        cnt_aLedC.append(cnt_aLedC_el)\n",
    "        \n",
    "        cnt_bLED.append(cnt_bLED_el)\n",
    "        cnt_bLedC.append(cnt_bLedC_el)\n",
    "    print ( 'alt_LED', np.mean(cnt_aLED) , (np.std(cnt_aLED) / np.mean(cnt_aLED) ) )\n",
    "    print ( 'bef_LED', np.mean(cnt_bLED) , (np.std(cnt_bLED) / np.mean(cnt_bLED)) )\n",
    "sim_cnts_acc(1000)"
   ]
  },
  {
   "cell_type": "code",
   "execution_count": null,
   "metadata": {
    "collapsed": true
   },
   "outputs": [],
   "source": []
  }
 ],
 "metadata": {
  "kernelspec": {
   "display_name": "Python [Root]",
   "language": "python",
   "name": "Python [Root]"
  },
  "language_info": {
   "codemirror_mode": {
    "name": "ipython",
    "version": 3
   },
   "file_extension": ".py",
   "mimetype": "text/x-python",
   "name": "python",
   "nbconvert_exporter": "python",
   "pygments_lexer": "ipython3",
   "version": "3.5.2"
  }
 },
 "nbformat": 4,
 "nbformat_minor": 0
}
