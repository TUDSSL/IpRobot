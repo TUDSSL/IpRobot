{
 "cells": [
  {
   "cell_type": "code",
   "execution_count": 7,
   "metadata": {
    "collapsed": false
   },
   "outputs": [
    {
     "name": "stdout",
     "output_type": "stream",
     "text": [
      "(91, 100)\n"
     ]
    }
   ],
   "source": [
    "import random\n",
    "\n",
    "def cnt_before_blinkLED(deathProb):\n",
    "    \"\"\"Count before blinking the LED\"\"\"\n",
    "    LED=False\n",
    "    ledBlinked =False\n",
    "    \n",
    "    if random.random() < deathProb:\n",
    "        ledBlinked = True \n",
    "        return (LED, ledBlinked)\n",
    "        #-------- the device died here \n",
    "        \n",
    "    ledBlinked = True      \n",
    "    LED =True # blink LED\n",
    "    \n",
    "    return (LED, ledBlinked)\n",
    "\n",
    "\n",
    "def bef_cnts_accurcy (numSteps, deathProb):\n",
    "    cnt_bLED = 0\n",
    "    cnt_bLedC = 0\n",
    "    i=0\n",
    "    while i < numSteps:\n",
    "        i+=1\n",
    "        bLED, bLedB = cnt_before_blinkLED(deathProb)\n",
    "\n",
    "        if bLED:\n",
    "            cnt_bLED +=1 \n",
    "        if bLedB:\n",
    "            cnt_bLedC +=1 \n",
    "        \n",
    "    return (cnt_bLED, cnt_bLedC)\n",
    "\n",
    "\n",
    "print bef_cnts_accurcy (100, 0.1)"
   ]
  },
  {
   "cell_type": "code",
   "execution_count": 6,
   "metadata": {
    "collapsed": false
   },
   "outputs": [
    {
     "name": "stdout",
     "output_type": "stream",
     "text": [
      "[100, 200, 300, 400, 500, 600, 700, 800, 900, 1000]\n"
     ]
    }
   ],
   "source": [
    "numSteps = range(100,1001, 100)\n",
    "num\n",
    "for steps in numSteps:\n",
    "    "
   ]
  },
  {
   "cell_type": "code",
   "execution_count": null,
   "metadata": {
    "collapsed": true
   },
   "outputs": [],
   "source": []
  }
 ],
 "metadata": {
  "anaconda-cloud": {},
  "kernelspec": {
   "display_name": "Python [Root]",
   "language": "python",
   "name": "Python [Root]"
  },
  "language_info": {
   "codemirror_mode": {
    "name": "ipython",
    "version": 3
   },
   "file_extension": ".py",
   "mimetype": "text/x-python",
   "name": "python",
   "nbconvert_exporter": "python",
   "pygments_lexer": "ipython3",
   "version": "3.5.2"
  }
 },
 "nbformat": 4,
 "nbformat_minor": 0
}
